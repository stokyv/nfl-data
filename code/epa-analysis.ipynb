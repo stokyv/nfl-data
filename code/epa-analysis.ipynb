{
 "cells": [
  {
   "cell_type": "code",
   "execution_count": 1,
   "id": "54114f54",
   "metadata": {},
   "outputs": [],
   "source": [
    "import numpy as np\n",
    "import pandas as pd\n",
    "import matplotlib.pyplot as plt\n",
    "import os\n",
    "import json\n",
    "import requests\n",
    "from bs4 import BeautifulSoup as soup\n",
    "\n",
    "import matplotlib.pyplot as plt\n",
    "plt.style.use('classic')\n",
    "%matplotlib inline\n",
    "\n",
    "import seaborn as sns\n",
    "sns.set()"
   ]
  },
  {
   "cell_type": "code",
   "execution_count": 3,
   "id": "9c60f6e7",
   "metadata": {},
   "outputs": [
    {
     "data": {
      "text/plain": [
       "'C:\\\\Users\\\\Chill\\\\nfl\\\\play_by_play_2020.csv.gz'"
      ]
     },
     "execution_count": 3,
     "metadata": {},
     "output_type": "execute_result"
    }
   ],
   "source": [
    "root = r'C:\\Users\\Chill\\nfl'\n",
    "YEAR = 2020\n",
    "file_path = f'C:\\\\Users\\\\Chill\\\\nfl\\\\play_by_play_{YEAR}.csv.gz'\n",
    "file_path"
   ]
  },
  {
   "cell_type": "code",
   "execution_count": 4,
   "id": "499b5b57",
   "metadata": {},
   "outputs": [],
   "source": [
    "#download from 2015 to 2020 and save data to folder\n",
    "def download_and_store_data(year):    \n",
    "    data = pd.read_csv('https://github.com/guga31bb/nflfastR-data/blob/master/data/' \\\n",
    "                             'play_by_play_' + str(year) + '.csv.gz?raw=True',\n",
    "                             compression='gzip', low_memory=False)\n",
    "    #save to disk\n",
    "    path = r'C:\\Users\\Chill\\nfl'\n",
    "    file_path = f'C:\\\\Users\\\\Chill\\\\nfl\\\\play_by_play_{year}.csv.gz'\n",
    "\n",
    "    data.to_csv(file_path, compression='gzip', index=False)\n",
    "\n",
    "#load data from disk\n",
    "def load_data(year):\n",
    "    filepath = f'C:\\\\Users\\\\Chill\\\\nfl\\\\play_by_play_{year}.csv.gz'\n",
    "    data = pd.read_csv(filepath, compression='gzip', low_memory=False)                \n",
    "    return data\n",
    "\n",
    "def load_multi_years(all_data=True):\n",
    "    if all_data:\n",
    "        #list all downloaded data\n",
    "        data = [file for file in os.listdir(root) if 'play_by_play' in file]\n",
    "    \n",
    "        #for each year, read into a df\n",
    "        df = pd.DataFrame()\n",
    "        dfs = []\n",
    "        for file in data:\n",
    "            df_year = pd.read_csv(file, compression='gzip', low_memory=False)\n",
    "            dfs.append(df_year)\n",
    "#         dfs = [pd.read_csv(file, compression='gzip') for file in data]\n",
    "        df = pd.concat(dfs)\n",
    "        return df\n",
    "        #concat all dfs in list using concat"
   ]
  },
  {
   "cell_type": "code",
   "execution_count": 5,
   "id": "237852e2",
   "metadata": {},
   "outputs": [],
   "source": [
    "COLORS = {'ARI':'#97233F','ATL':'#A71930','BAL':'#241773','BUF':'#00338D','CAR':'#0085CA','CHI':'#00143F',\n",
    "          'CIN':'#FB4F14','CLE':'#FB4F14','DAL':'#B0B7BC','DEN':'#002244','DET':'#046EB4','GB':'#24423C',\n",
    "          'HOU':'#C9243F','IND':'#003D79','JAX':'#136677','KC':'#CA2430','LA':'#002147','LAC':'#2072BA',\n",
    "          'LV':'#C4C9CC','MIA':'#0091A0','MIN':'#4F2E84','NE':'#0A2342','NO':'#A08A58','NYG':'#192E6C',\n",
    "          'NYJ':'#203731','PHI':'#014A53','PIT':'#FFC20E','SEA':'#7AC142','SF':'#C9243F','TB':'#D40909',\n",
    "          'TEN':'#4095D1','WAS':'#FFC20F'}"
   ]
  },
  {
   "cell_type": "code",
   "execution_count": 6,
   "id": "16081cde",
   "metadata": {},
   "outputs": [
    {
     "data": {
      "text/html": [
       "<div>\n",
       "<style scoped>\n",
       "    .dataframe tbody tr th:only-of-type {\n",
       "        vertical-align: middle;\n",
       "    }\n",
       "\n",
       "    .dataframe tbody tr th {\n",
       "        vertical-align: top;\n",
       "    }\n",
       "\n",
       "    .dataframe thead th {\n",
       "        text-align: right;\n",
       "    }\n",
       "</style>\n",
       "<table border=\"1\" class=\"dataframe\">\n",
       "  <thead>\n",
       "    <tr style=\"text-align: right;\">\n",
       "      <th></th>\n",
       "      <th>play_id</th>\n",
       "      <th>game_id</th>\n",
       "      <th>old_game_id</th>\n",
       "      <th>home_team</th>\n",
       "      <th>away_team</th>\n",
       "      <th>season_type</th>\n",
       "      <th>week</th>\n",
       "      <th>posteam</th>\n",
       "      <th>posteam_type</th>\n",
       "      <th>defteam</th>\n",
       "      <th>...</th>\n",
       "      <th>out_of_bounds</th>\n",
       "      <th>home_opening_kickoff</th>\n",
       "      <th>qb_epa</th>\n",
       "      <th>xyac_epa</th>\n",
       "      <th>xyac_mean_yardage</th>\n",
       "      <th>xyac_median_yardage</th>\n",
       "      <th>xyac_success</th>\n",
       "      <th>xyac_fd</th>\n",
       "      <th>xpass</th>\n",
       "      <th>pass_oe</th>\n",
       "    </tr>\n",
       "  </thead>\n",
       "  <tbody>\n",
       "    <tr>\n",
       "      <th>0</th>\n",
       "      <td>1</td>\n",
       "      <td>2021_01_ARI_TEN</td>\n",
       "      <td>2021091207</td>\n",
       "      <td>TEN</td>\n",
       "      <td>ARI</td>\n",
       "      <td>REG</td>\n",
       "      <td>1</td>\n",
       "      <td>NaN</td>\n",
       "      <td>NaN</td>\n",
       "      <td>NaN</td>\n",
       "      <td>...</td>\n",
       "      <td>0</td>\n",
       "      <td>1</td>\n",
       "      <td>NaN</td>\n",
       "      <td>NaN</td>\n",
       "      <td>NaN</td>\n",
       "      <td>NaN</td>\n",
       "      <td>NaN</td>\n",
       "      <td>NaN</td>\n",
       "      <td>NaN</td>\n",
       "      <td>NaN</td>\n",
       "    </tr>\n",
       "    <tr>\n",
       "      <th>1</th>\n",
       "      <td>40</td>\n",
       "      <td>2021_01_ARI_TEN</td>\n",
       "      <td>2021091207</td>\n",
       "      <td>TEN</td>\n",
       "      <td>ARI</td>\n",
       "      <td>REG</td>\n",
       "      <td>1</td>\n",
       "      <td>TEN</td>\n",
       "      <td>home</td>\n",
       "      <td>ARI</td>\n",
       "      <td>...</td>\n",
       "      <td>0</td>\n",
       "      <td>1</td>\n",
       "      <td>0.000000</td>\n",
       "      <td>NaN</td>\n",
       "      <td>NaN</td>\n",
       "      <td>NaN</td>\n",
       "      <td>NaN</td>\n",
       "      <td>NaN</td>\n",
       "      <td>NaN</td>\n",
       "      <td>NaN</td>\n",
       "    </tr>\n",
       "    <tr>\n",
       "      <th>2</th>\n",
       "      <td>55</td>\n",
       "      <td>2021_01_ARI_TEN</td>\n",
       "      <td>2021091207</td>\n",
       "      <td>TEN</td>\n",
       "      <td>ARI</td>\n",
       "      <td>REG</td>\n",
       "      <td>1</td>\n",
       "      <td>TEN</td>\n",
       "      <td>home</td>\n",
       "      <td>ARI</td>\n",
       "      <td>...</td>\n",
       "      <td>0</td>\n",
       "      <td>1</td>\n",
       "      <td>-1.399805</td>\n",
       "      <td>NaN</td>\n",
       "      <td>NaN</td>\n",
       "      <td>NaN</td>\n",
       "      <td>NaN</td>\n",
       "      <td>NaN</td>\n",
       "      <td>0.491433</td>\n",
       "      <td>-49.143299</td>\n",
       "    </tr>\n",
       "    <tr>\n",
       "      <th>3</th>\n",
       "      <td>76</td>\n",
       "      <td>2021_01_ARI_TEN</td>\n",
       "      <td>2021091207</td>\n",
       "      <td>TEN</td>\n",
       "      <td>ARI</td>\n",
       "      <td>REG</td>\n",
       "      <td>1</td>\n",
       "      <td>TEN</td>\n",
       "      <td>home</td>\n",
       "      <td>ARI</td>\n",
       "      <td>...</td>\n",
       "      <td>0</td>\n",
       "      <td>1</td>\n",
       "      <td>0.032412</td>\n",
       "      <td>1.165133</td>\n",
       "      <td>5.803177</td>\n",
       "      <td>4.0</td>\n",
       "      <td>0.896654</td>\n",
       "      <td>0.125098</td>\n",
       "      <td>0.697346</td>\n",
       "      <td>30.265415</td>\n",
       "    </tr>\n",
       "    <tr>\n",
       "      <th>4</th>\n",
       "      <td>100</td>\n",
       "      <td>2021_01_ARI_TEN</td>\n",
       "      <td>2021091207</td>\n",
       "      <td>TEN</td>\n",
       "      <td>ARI</td>\n",
       "      <td>REG</td>\n",
       "      <td>1</td>\n",
       "      <td>TEN</td>\n",
       "      <td>home</td>\n",
       "      <td>ARI</td>\n",
       "      <td>...</td>\n",
       "      <td>0</td>\n",
       "      <td>1</td>\n",
       "      <td>-1.532898</td>\n",
       "      <td>0.256036</td>\n",
       "      <td>4.147637</td>\n",
       "      <td>2.0</td>\n",
       "      <td>0.965009</td>\n",
       "      <td>0.965009</td>\n",
       "      <td>0.978253</td>\n",
       "      <td>2.174652</td>\n",
       "    </tr>\n",
       "  </tbody>\n",
       "</table>\n",
       "<p>5 rows × 372 columns</p>\n",
       "</div>"
      ],
      "text/plain": [
       "   play_id          game_id  old_game_id home_team away_team season_type  \\\n",
       "0        1  2021_01_ARI_TEN   2021091207       TEN       ARI         REG   \n",
       "1       40  2021_01_ARI_TEN   2021091207       TEN       ARI         REG   \n",
       "2       55  2021_01_ARI_TEN   2021091207       TEN       ARI         REG   \n",
       "3       76  2021_01_ARI_TEN   2021091207       TEN       ARI         REG   \n",
       "4      100  2021_01_ARI_TEN   2021091207       TEN       ARI         REG   \n",
       "\n",
       "   week posteam posteam_type defteam  ... out_of_bounds  home_opening_kickoff  \\\n",
       "0     1     NaN          NaN     NaN  ...             0                     1   \n",
       "1     1     TEN         home     ARI  ...             0                     1   \n",
       "2     1     TEN         home     ARI  ...             0                     1   \n",
       "3     1     TEN         home     ARI  ...             0                     1   \n",
       "4     1     TEN         home     ARI  ...             0                     1   \n",
       "\n",
       "     qb_epa  xyac_epa  xyac_mean_yardage  xyac_median_yardage xyac_success  \\\n",
       "0       NaN       NaN                NaN                  NaN          NaN   \n",
       "1  0.000000       NaN                NaN                  NaN          NaN   \n",
       "2 -1.399805       NaN                NaN                  NaN          NaN   \n",
       "3  0.032412  1.165133           5.803177                  4.0     0.896654   \n",
       "4 -1.532898  0.256036           4.147637                  2.0     0.965009   \n",
       "\n",
       "    xyac_fd     xpass    pass_oe  \n",
       "0       NaN       NaN        NaN  \n",
       "1       NaN       NaN        NaN  \n",
       "2       NaN  0.491433 -49.143299  \n",
       "3  0.125098  0.697346  30.265415  \n",
       "4  0.965009  0.978253   2.174652  \n",
       "\n",
       "[5 rows x 372 columns]"
      ]
     },
     "execution_count": 6,
     "metadata": {},
     "output_type": "execute_result"
    }
   ],
   "source": [
    "data = load_data(2021)\n",
    "data.head()"
   ]
  },
  {
   "cell_type": "code",
   "execution_count": 7,
   "id": "f615535f",
   "metadata": {},
   "outputs": [],
   "source": [
    "#calculate epa per team per match\n",
    "\n",
    "#filter data first\n",
    "df = data[\n",
    "          (data.play_type.isin(['no_play','pass','run'])) &\n",
    "#           (data.two_point_attempt==0) &\n",
    "          (data['epa'].isna()==False)\n",
    "          ]"
   ]
  },
  {
   "cell_type": "code",
   "execution_count": 9,
   "id": "e9fac69b",
   "metadata": {},
   "outputs": [
    {
     "data": {
      "text/plain": [
       "0"
      ]
     },
     "execution_count": 9,
     "metadata": {},
     "output_type": "execute_result"
    }
   ],
   "source": [
    "#check that there's no play whose epa is missing\n",
    "df.epa.isnull().sum()"
   ]
  },
  {
   "cell_type": "code",
   "execution_count": 11,
   "id": "93e98cd5",
   "metadata": {},
   "outputs": [],
   "source": [
    "result = df.groupby(['game_id', 'posteam'])['epa'].mean()"
   ]
  },
  {
   "cell_type": "code",
   "execution_count": 15,
   "id": "c98eefc1",
   "metadata": {},
   "outputs": [
    {
     "data": {
      "text/plain": [
       "game_id          posteam\n",
       "2021_01_ARI_TEN  ARI        0.158533\n",
       "                 TEN       -0.326721\n",
       "2021_01_BAL_LV   BAL       -0.040739\n",
       "                 LV         0.004540\n",
       "2021_01_CHI_LA   CHI       -0.114370\n",
       "                              ...   \n",
       "2021_21_CIN_KC   KC         0.007644\n",
       "2021_21_SF_LA    LA         0.085424\n",
       "                 SF        -0.052629\n",
       "2021_22_LA_CIN   CIN       -0.186360\n",
       "                 LA        -0.057926\n",
       "Name: epa, Length: 570, dtype: float64"
      ]
     },
     "execution_count": 15,
     "metadata": {},
     "output_type": "execute_result"
    }
   ],
   "source": [
    "result"
   ]
  },
  {
   "cell_type": "code",
   "execution_count": 16,
   "id": "ae837d1b",
   "metadata": {
    "scrolled": true
   },
   "outputs": [
    {
     "data": {
      "text/html": [
       "<div>\n",
       "<style scoped>\n",
       "    .dataframe tbody tr th:only-of-type {\n",
       "        vertical-align: middle;\n",
       "    }\n",
       "\n",
       "    .dataframe tbody tr th {\n",
       "        vertical-align: top;\n",
       "    }\n",
       "\n",
       "    .dataframe thead th {\n",
       "        text-align: right;\n",
       "    }\n",
       "</style>\n",
       "<table border=\"1\" class=\"dataframe\">\n",
       "  <thead>\n",
       "    <tr style=\"text-align: right;\">\n",
       "      <th></th>\n",
       "      <th>game_id</th>\n",
       "      <th>posteam</th>\n",
       "      <th>epa</th>\n",
       "    </tr>\n",
       "  </thead>\n",
       "  <tbody>\n",
       "    <tr>\n",
       "      <th>0</th>\n",
       "      <td>2021_01_ARI_TEN</td>\n",
       "      <td>ARI</td>\n",
       "      <td>0.158533</td>\n",
       "    </tr>\n",
       "    <tr>\n",
       "      <th>1</th>\n",
       "      <td>2021_01_ARI_TEN</td>\n",
       "      <td>TEN</td>\n",
       "      <td>-0.326721</td>\n",
       "    </tr>\n",
       "    <tr>\n",
       "      <th>2</th>\n",
       "      <td>2021_01_BAL_LV</td>\n",
       "      <td>BAL</td>\n",
       "      <td>-0.040739</td>\n",
       "    </tr>\n",
       "    <tr>\n",
       "      <th>3</th>\n",
       "      <td>2021_01_BAL_LV</td>\n",
       "      <td>LV</td>\n",
       "      <td>0.004540</td>\n",
       "    </tr>\n",
       "    <tr>\n",
       "      <th>4</th>\n",
       "      <td>2021_01_CHI_LA</td>\n",
       "      <td>CHI</td>\n",
       "      <td>-0.114370</td>\n",
       "    </tr>\n",
       "    <tr>\n",
       "      <th>...</th>\n",
       "      <td>...</td>\n",
       "      <td>...</td>\n",
       "      <td>...</td>\n",
       "    </tr>\n",
       "    <tr>\n",
       "      <th>565</th>\n",
       "      <td>2021_21_CIN_KC</td>\n",
       "      <td>KC</td>\n",
       "      <td>0.007644</td>\n",
       "    </tr>\n",
       "    <tr>\n",
       "      <th>566</th>\n",
       "      <td>2021_21_SF_LA</td>\n",
       "      <td>LA</td>\n",
       "      <td>0.085424</td>\n",
       "    </tr>\n",
       "    <tr>\n",
       "      <th>567</th>\n",
       "      <td>2021_21_SF_LA</td>\n",
       "      <td>SF</td>\n",
       "      <td>-0.052629</td>\n",
       "    </tr>\n",
       "    <tr>\n",
       "      <th>568</th>\n",
       "      <td>2021_22_LA_CIN</td>\n",
       "      <td>CIN</td>\n",
       "      <td>-0.186360</td>\n",
       "    </tr>\n",
       "    <tr>\n",
       "      <th>569</th>\n",
       "      <td>2021_22_LA_CIN</td>\n",
       "      <td>LA</td>\n",
       "      <td>-0.057926</td>\n",
       "    </tr>\n",
       "  </tbody>\n",
       "</table>\n",
       "<p>570 rows × 3 columns</p>\n",
       "</div>"
      ],
      "text/plain": [
       "             game_id posteam       epa\n",
       "0    2021_01_ARI_TEN     ARI  0.158533\n",
       "1    2021_01_ARI_TEN     TEN -0.326721\n",
       "2     2021_01_BAL_LV     BAL -0.040739\n",
       "3     2021_01_BAL_LV      LV  0.004540\n",
       "4     2021_01_CHI_LA     CHI -0.114370\n",
       "..               ...     ...       ...\n",
       "565   2021_21_CIN_KC      KC  0.007644\n",
       "566    2021_21_SF_LA      LA  0.085424\n",
       "567    2021_21_SF_LA      SF -0.052629\n",
       "568   2021_22_LA_CIN     CIN -0.186360\n",
       "569   2021_22_LA_CIN      LA -0.057926\n",
       "\n",
       "[570 rows x 3 columns]"
      ]
     },
     "execution_count": 16,
     "metadata": {},
     "output_type": "execute_result"
    }
   ],
   "source": [
    "r1 = result.reset_index()\n",
    "r1"
   ]
  },
  {
   "cell_type": "code",
   "execution_count": 43,
   "id": "5fb963be",
   "metadata": {},
   "outputs": [],
   "source": [
    "import matplotlib.pyplot as plt\n",
    "plt.rcParams['figure.figsize'] = [15, 10]\n",
    "#https://stackoverflow.com/questions/36367986/how-to-make-inline-plots-in-jupyter-notebook-larger"
   ]
  },
  {
   "cell_type": "code",
   "execution_count": 44,
   "id": "d706e85a",
   "metadata": {},
   "outputs": [
    {
     "data": {
      "text/plain": [
       "<matplotlib.collections.PathCollection at 0x240e7ad3d90>"
      ]
     },
     "execution_count": 44,
     "metadata": {},
     "output_type": "execute_result"
    },
    {
     "data": {
      "image/png": "[encoded data removed]",
      "text/plain": [
       "<Figure size 1080x720 with 1 Axes>"
      ]
     },
     "metadata": {},
     "output_type": "display_data"
    }
   ],
   "source": [
    "#find average of each team epa\n",
    "#for each team:\n",
    "#calculate average of game epa\n",
    "r2 = r1.groupby('posteam')['epa'].mean().sort_values(ascending=False)\n",
    "plt.scatter(r2.index, r2.values)\n",
    "# type(r2) # Sereis"
   ]
  },
  {
   "cell_type": "code",
   "execution_count": 45,
   "id": "0f15a9b5",
   "metadata": {},
   "outputs": [
    {
     "data": {
      "text/plain": [
       "<AxesSubplot:xlabel='posteam', ylabel='epa'>"
      ]
     },
     "execution_count": 45,
     "metadata": {},
     "output_type": "execute_result"
    },
    {
     "data": {
      "image/png": "[encoded data removed]",
      "text/plain": [
       "<Figure size 1080x720 with 1 Axes>"
      ]
     },
     "metadata": {},
     "output_type": "display_data"
    }
   ],
   "source": [
    "sns.scatterplot(data=r2)"
   ]
  },
  {
   "cell_type": "markdown",
   "id": "b4a26fba",
   "metadata": {},
   "source": [
    "https://stackoverflow.com/questions/20110170/turn-pandas-multi-index-into-column"
   ]
  }
 ],
 "metadata": {
  "kernelspec": {
   "display_name": "Python 3 (ipykernel)",
   "language": "python",
   "name": "python3"
  },
  "language_info": {
   "codemirror_mode": {
    "name": "ipython",
    "version": 3
   },
   "file_extension": ".py",
   "mimetype": "text/x-python",
   "name": "python",
   "nbconvert_exporter": "python",
   "pygments_lexer": "ipython3",
   "version": "3.10.10"
  }
 },
 "nbformat": 4,
 "nbformat_minor": 5
}
